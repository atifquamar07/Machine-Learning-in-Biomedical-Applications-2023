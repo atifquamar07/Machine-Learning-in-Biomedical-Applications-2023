{
  "cells": [
    {
      "cell_type": "markdown",
      "metadata": {
        "id": "Z024tMsIHYz1"
      },
      "source": [
        "### Importing files"
      ]
    },
    {
      "cell_type": "code",
      "execution_count": null,
      "metadata": {
        "id": "OCbNAAvXwp2q"
      },
      "outputs": [],
      "source": [
        "import tensorflow as tf\n",
        "import pandas as pd\n",
        "import numpy as np\n",
        "from transformers import AutoTokenizer"
      ]
    },
    {
      "cell_type": "code",
      "execution_count": null,
      "metadata": {
        "colab": {
          "base_uri": "https://localhost:8080/"
        },
        "id": "Ys1XgOboxuD4",
        "outputId": "debb2934-73a1-492e-d7cc-2e7f000dbc0a"
      },
      "outputs": [
        {
          "name": "stdout",
          "output_type": "stream",
          "text": [
            "Mounted at /content/drive\n"
          ]
        }
      ],
      "source": [
        "from google.colab import drive\n",
        "drive.mount('/content/drive')"
      ]
    },
    {
      "cell_type": "code",
      "execution_count": null,
      "metadata": {
        "colab": {
          "base_uri": "https://localhost:8080/",
          "height": 206
        },
        "id": "NFFXkUP3w67l",
        "outputId": "3c8f1034-8057-42a6-ece5-36cd7c201112"
      },
      "outputs": [
        {
          "data": {
            "text/html": [
              "\n",
              "  <div id=\"df-192bb1f4-4477-4f58-aac8-b1b3cab868fd\" class=\"colab-df-container\">\n",
              "    <div>\n",
              "<style scoped>\n",
              "    .dataframe tbody tr th:only-of-type {\n",
              "        vertical-align: middle;\n",
              "    }\n",
              "\n",
              "    .dataframe tbody tr th {\n",
              "        vertical-align: top;\n",
              "    }\n",
              "\n",
              "    .dataframe thead th {\n",
              "        text-align: right;\n",
              "    }\n",
              "</style>\n",
              "<table border=\"1\" class=\"dataframe\">\n",
              "  <thead>\n",
              "    <tr style=\"text-align: right;\">\n",
              "      <th></th>\n",
              "      <th>Sequence</th>\n",
              "      <th>Label</th>\n",
              "    </tr>\n",
              "  </thead>\n",
              "  <tbody>\n",
              "    <tr>\n",
              "      <th>0</th>\n",
              "      <td>MTAELRNLPHIASMAFNEPLMLEPAYARVFFCALAGQLGISSLTDA...</td>\n",
              "      <td>1</td>\n",
              "    </tr>\n",
              "    <tr>\n",
              "      <th>1</th>\n",
              "      <td>MTDITANVVVSNPRPIFTESRSFKAVANGKIYIGQIDTDPVNPANQ...</td>\n",
              "      <td>1</td>\n",
              "    </tr>\n",
              "    <tr>\n",
              "      <th>2</th>\n",
              "      <td>MEMISNNLNWFVGVVEDRMDPLKLGRVRVRVVGLHPPQRAQGDVMG...</td>\n",
              "      <td>1</td>\n",
              "    </tr>\n",
              "    <tr>\n",
              "      <th>3</th>\n",
              "      <td>MIINLADVEQLSIKAESVDFQYDMYKKVCEKFTDFEQSVLWQCMEA...</td>\n",
              "      <td>1</td>\n",
              "    </tr>\n",
              "    <tr>\n",
              "      <th>4</th>\n",
              "      <td>MRAFSTLDRENETFVPSVRVYADGETEDNSFSLKYRSNWTPGRFNS...</td>\n",
              "      <td>1</td>\n",
              "    </tr>\n",
              "  </tbody>\n",
              "</table>\n",
              "</div>\n",
              "    <div class=\"colab-df-buttons\">\n",
              "\n",
              "  <div class=\"colab-df-container\">\n",
              "    <button class=\"colab-df-convert\" onclick=\"convertToInteractive('df-192bb1f4-4477-4f58-aac8-b1b3cab868fd')\"\n",
              "            title=\"Convert this dataframe to an interactive table.\"\n",
              "            style=\"display:none;\">\n",
              "\n",
              "  <svg xmlns=\"http://www.w3.org/2000/svg\" height=\"24px\" viewBox=\"0 -960 960 960\">\n",
              "    <path d=\"M120-120v-720h720v720H120Zm60-500h600v-160H180v160Zm220 220h160v-160H400v160Zm0 220h160v-160H400v160ZM180-400h160v-160H180v160Zm440 0h160v-160H620v160ZM180-180h160v-160H180v160Zm440 0h160v-160H620v160Z\"/>\n",
              "  </svg>\n",
              "    </button>\n",
              "\n",
              "  <style>\n",
              "    .colab-df-container {\n",
              "      display:flex;\n",
              "      gap: 12px;\n",
              "    }\n",
              "\n",
              "    .colab-df-convert {\n",
              "      background-color: #E8F0FE;\n",
              "      border: none;\n",
              "      border-radius: 50%;\n",
              "      cursor: pointer;\n",
              "      display: none;\n",
              "      fill: #1967D2;\n",
              "      height: 32px;\n",
              "      padding: 0 0 0 0;\n",
              "      width: 32px;\n",
              "    }\n",
              "\n",
              "    .colab-df-convert:hover {\n",
              "      background-color: #E2EBFA;\n",
              "      box-shadow: 0px 1px 2px rgba(60, 64, 67, 0.3), 0px 1px 3px 1px rgba(60, 64, 67, 0.15);\n",
              "      fill: #174EA6;\n",
              "    }\n",
              "\n",
              "    .colab-df-buttons div {\n",
              "      margin-bottom: 4px;\n",
              "    }\n",
              "\n",
              "    [theme=dark] .colab-df-convert {\n",
              "      background-color: #3B4455;\n",
              "      fill: #D2E3FC;\n",
              "    }\n",
              "\n",
              "    [theme=dark] .colab-df-convert:hover {\n",
              "      background-color: #434B5C;\n",
              "      box-shadow: 0px 1px 3px 1px rgba(0, 0, 0, 0.15);\n",
              "      filter: drop-shadow(0px 1px 2px rgba(0, 0, 0, 0.3));\n",
              "      fill: #FFFFFF;\n",
              "    }\n",
              "  </style>\n",
              "\n",
              "    <script>\n",
              "      const buttonEl =\n",
              "        document.querySelector('#df-192bb1f4-4477-4f58-aac8-b1b3cab868fd button.colab-df-convert');\n",
              "      buttonEl.style.display =\n",
              "        google.colab.kernel.accessAllowed ? 'block' : 'none';\n",
              "\n",
              "      async function convertToInteractive(key) {\n",
              "        const element = document.querySelector('#df-192bb1f4-4477-4f58-aac8-b1b3cab868fd');\n",
              "        const dataTable =\n",
              "          await google.colab.kernel.invokeFunction('convertToInteractive',\n",
              "                                                    [key], {});\n",
              "        if (!dataTable) return;\n",
              "\n",
              "        const docLinkHtml = 'Like what you see? Visit the ' +\n",
              "          '<a target=\"_blank\" href=https://colab.research.google.com/notebooks/data_table.ipynb>data table notebook</a>'\n",
              "          + ' to learn more about interactive tables.';\n",
              "        element.innerHTML = '';\n",
              "        dataTable['output_type'] = 'display_data';\n",
              "        await google.colab.output.renderOutput(dataTable, element);\n",
              "        const docLink = document.createElement('div');\n",
              "        docLink.innerHTML = docLinkHtml;\n",
              "        element.appendChild(docLink);\n",
              "      }\n",
              "    </script>\n",
              "  </div>\n",
              "\n",
              "\n",
              "<div id=\"df-136558bb-d1e4-4cfc-bba7-2f675a1ea2da\">\n",
              "  <button class=\"colab-df-quickchart\" onclick=\"quickchart('df-136558bb-d1e4-4cfc-bba7-2f675a1ea2da')\"\n",
              "            title=\"Suggest charts.\"\n",
              "            style=\"display:none;\">\n",
              "\n",
              "<svg xmlns=\"http://www.w3.org/2000/svg\" height=\"24px\"viewBox=\"0 0 24 24\"\n",
              "     width=\"24px\">\n",
              "    <g>\n",
              "        <path d=\"M19 3H5c-1.1 0-2 .9-2 2v14c0 1.1.9 2 2 2h14c1.1 0 2-.9 2-2V5c0-1.1-.9-2-2-2zM9 17H7v-7h2v7zm4 0h-2V7h2v10zm4 0h-2v-4h2v4z\"/>\n",
              "    </g>\n",
              "</svg>\n",
              "  </button>\n",
              "\n",
              "<style>\n",
              "  .colab-df-quickchart {\n",
              "      --bg-color: #E8F0FE;\n",
              "      --fill-color: #1967D2;\n",
              "      --hover-bg-color: #E2EBFA;\n",
              "      --hover-fill-color: #174EA6;\n",
              "      --disabled-fill-color: #AAA;\n",
              "      --disabled-bg-color: #DDD;\n",
              "  }\n",
              "\n",
              "  [theme=dark] .colab-df-quickchart {\n",
              "      --bg-color: #3B4455;\n",
              "      --fill-color: #D2E3FC;\n",
              "      --hover-bg-color: #434B5C;\n",
              "      --hover-fill-color: #FFFFFF;\n",
              "      --disabled-bg-color: #3B4455;\n",
              "      --disabled-fill-color: #666;\n",
              "  }\n",
              "\n",
              "  .colab-df-quickchart {\n",
              "    background-color: var(--bg-color);\n",
              "    border: none;\n",
              "    border-radius: 50%;\n",
              "    cursor: pointer;\n",
              "    display: none;\n",
              "    fill: var(--fill-color);\n",
              "    height: 32px;\n",
              "    padding: 0;\n",
              "    width: 32px;\n",
              "  }\n",
              "\n",
              "  .colab-df-quickchart:hover {\n",
              "    background-color: var(--hover-bg-color);\n",
              "    box-shadow: 0 1px 2px rgba(60, 64, 67, 0.3), 0 1px 3px 1px rgba(60, 64, 67, 0.15);\n",
              "    fill: var(--button-hover-fill-color);\n",
              "  }\n",
              "\n",
              "  .colab-df-quickchart-complete:disabled,\n",
              "  .colab-df-quickchart-complete:disabled:hover {\n",
              "    background-color: var(--disabled-bg-color);\n",
              "    fill: var(--disabled-fill-color);\n",
              "    box-shadow: none;\n",
              "  }\n",
              "\n",
              "  .colab-df-spinner {\n",
              "    border: 2px solid var(--fill-color);\n",
              "    border-color: transparent;\n",
              "    border-bottom-color: var(--fill-color);\n",
              "    animation:\n",
              "      spin 1s steps(1) infinite;\n",
              "  }\n",
              "\n",
              "  @keyframes spin {\n",
              "    0% {\n",
              "      border-color: transparent;\n",
              "      border-bottom-color: var(--fill-color);\n",
              "      border-left-color: var(--fill-color);\n",
              "    }\n",
              "    20% {\n",
              "      border-color: transparent;\n",
              "      border-left-color: var(--fill-color);\n",
              "      border-top-color: var(--fill-color);\n",
              "    }\n",
              "    30% {\n",
              "      border-color: transparent;\n",
              "      border-left-color: var(--fill-color);\n",
              "      border-top-color: var(--fill-color);\n",
              "      border-right-color: var(--fill-color);\n",
              "    }\n",
              "    40% {\n",
              "      border-color: transparent;\n",
              "      border-right-color: var(--fill-color);\n",
              "      border-top-color: var(--fill-color);\n",
              "    }\n",
              "    60% {\n",
              "      border-color: transparent;\n",
              "      border-right-color: var(--fill-color);\n",
              "    }\n",
              "    80% {\n",
              "      border-color: transparent;\n",
              "      border-right-color: var(--fill-color);\n",
              "      border-bottom-color: var(--fill-color);\n",
              "    }\n",
              "    90% {\n",
              "      border-color: transparent;\n",
              "      border-bottom-color: var(--fill-color);\n",
              "    }\n",
              "  }\n",
              "</style>\n",
              "\n",
              "  <script>\n",
              "    async function quickchart(key) {\n",
              "      const quickchartButtonEl =\n",
              "        document.querySelector('#' + key + ' button');\n",
              "      quickchartButtonEl.disabled = true;  // To prevent multiple clicks.\n",
              "      quickchartButtonEl.classList.add('colab-df-spinner');\n",
              "      try {\n",
              "        const charts = await google.colab.kernel.invokeFunction(\n",
              "            'suggestCharts', [key], {});\n",
              "      } catch (error) {\n",
              "        console.error('Error during call to suggestCharts:', error);\n",
              "      }\n",
              "      quickchartButtonEl.classList.remove('colab-df-spinner');\n",
              "      quickchartButtonEl.classList.add('colab-df-quickchart-complete');\n",
              "    }\n",
              "    (() => {\n",
              "      let quickchartButtonEl =\n",
              "        document.querySelector('#df-136558bb-d1e4-4cfc-bba7-2f675a1ea2da button');\n",
              "      quickchartButtonEl.style.display =\n",
              "        google.colab.kernel.accessAllowed ? 'block' : 'none';\n",
              "    })();\n",
              "  </script>\n",
              "</div>\n",
              "    </div>\n",
              "  </div>\n"
            ],
            "text/plain": [
              "                                            Sequence  Label\n",
              "0  MTAELRNLPHIASMAFNEPLMLEPAYARVFFCALAGQLGISSLTDA...      1\n",
              "1  MTDITANVVVSNPRPIFTESRSFKAVANGKIYIGQIDTDPVNPANQ...      1\n",
              "2  MEMISNNLNWFVGVVEDRMDPLKLGRVRVRVVGLHPPQRAQGDVMG...      1\n",
              "3  MIINLADVEQLSIKAESVDFQYDMYKKVCEKFTDFEQSVLWQCMEA...      1\n",
              "4  MRAFSTLDRENETFVPSVRVYADGETEDNSFSLKYRSNWTPGRFNS...      1"
            ]
          },
          "execution_count": 6,
          "metadata": {},
          "output_type": "execute_result"
        }
      ],
      "source": [
        "df_train = pd.read_csv(\"/content/drive/MyDrive/mlba/train.csv\")\n",
        "df_train.head()"
      ]
    },
    {
      "cell_type": "markdown",
      "metadata": {
        "id": "Cb964gTkHbec"
      },
      "source": [
        "### Pre-processing Data"
      ]
    },
    {
      "cell_type": "code",
      "execution_count": null,
      "metadata": {
        "id": "NTt0AUBkxDGu"
      },
      "outputs": [],
      "source": [
        "from sklearn.model_selection import train_test_split\n",
        "x_train, x_val, y_train, y_val = train_test_split(df_train[\"Sequence\"], df_train[\"Label\"].values, shuffle = True)"
      ]
    },
    {
      "cell_type": "code",
      "execution_count": null,
      "metadata": {
        "id": "SL2FD_F6xDyc"
      },
      "outputs": [],
      "source": [
        "from sklearn.preprocessing import LabelEncoder\n",
        "from tensorflow.keras.utils import to_categorical\n",
        "\n",
        "integer_encoder = LabelEncoder()\n",
        "integer_encoder.fit(list('ACDEFGHIKLMNPQRSTVWY'))\n",
        "X_integer_encoded = [integer_encoder.transform(list(seq)) for seq in x_train]\n",
        "X_val_encoded = [integer_encoder.transform(list(seq)) for seq in x_val]\n",
        "\n",
        "x_integer_encoded_pad = tf.keras.preprocessing.sequence.pad_sequences(X_integer_encoded)\n",
        "x_val_encoded_pad = tf.keras.preprocessing.sequence.pad_sequences(X_val_encoded)"
      ]
    },
    {
      "cell_type": "code",
      "execution_count": null,
      "metadata": {
        "id": "olzs2XHo8x3H"
      },
      "outputs": [],
      "source": [
        "def pad_enc(x):\n",
        "  integer_encoder = LabelEncoder()\n",
        "  integer_encoder.fit(list('ACDEFGHIKLMNPQRSTVWY'))\n",
        "  x = [integer_encoder.transform(list(seq)) for seq in x]\n",
        "  x = tf.keras.preprocessing.sequence.pad_sequences(x)\n",
        "  return x"
      ]
    },
    {
      "cell_type": "markdown",
      "metadata": {
        "id": "agcrJKCQHGva"
      },
      "source": [
        "### Making CNN"
      ]
    },
    {
      "cell_type": "code",
      "execution_count": null,
      "metadata": {
        "id": "gns-X4gfxJ_I"
      },
      "outputs": [],
      "source": [
        "vocab_size = 21"
      ]
    },
    {
      "cell_type": "code",
      "execution_count": null,
      "metadata": {
        "colab": {
          "base_uri": "https://localhost:8080/"
        },
        "id": "OeL6PPVAw2ti",
        "outputId": "4df276bb-4d32-436f-90a8-27debb9c6368"
      },
      "outputs": [
        {
          "name": "stdout",
          "output_type": "stream",
          "text": [
            "Model: \"model_11\"\n",
            "__________________________________________________________________________________________________\n",
            " Layer (type)                Output Shape                 Param #   Connected to                  \n",
            "==================================================================================================\n",
            " input_13 (InputLayer)       [(None, None)]               0         []                            \n",
            "                                                                                                  \n",
            " embedding_13 (Embedding)    (None, None, 16)             320       ['input_13[0][0]',            \n",
            "                                                                     'input_13[0][0]']            \n",
            "                                                                                                  \n",
            " conv1d_39 (Conv1D)          (None, None, 100)            3300      ['embedding_13[0][0]',        \n",
            "                                                                     'embedding_13[1][0]']        \n",
            "                                                                                                  \n",
            " attention_9 (Attention)     (None, None, 100)            0         ['conv1d_39[0][0]',           \n",
            "                                                                     'conv1d_39[1][0]']           \n",
            "                                                                                                  \n",
            " global_average_pooling1d_1  (None, 100)                  0         ['conv1d_39[0][0]']           \n",
            " 0 (GlobalAveragePooling1D)                                                                       \n",
            "                                                                                                  \n",
            " global_average_pooling1d_1  (None, 100)                  0         ['attention_9[0][0]']         \n",
            " 1 (GlobalAveragePooling1D)                                                                       \n",
            "                                                                                                  \n",
            " concatenate_5 (Concatenate  (None, 200)                  0         ['global_average_pooling1d_10[\n",
            " )                                                                  0][0]',                       \n",
            "                                                                     'global_average_pooling1d_11[\n",
            "                                                                    0][0]']                       \n",
            "                                                                                                  \n",
            " dense_59 (Dense)            (None, 128)                  25728     ['concatenate_5[0][0]']       \n",
            "                                                                                                  \n",
            " dense_60 (Dense)            (None, 64)                   8256      ['dense_59[0][0]']            \n",
            "                                                                                                  \n",
            " dense_61 (Dense)            (None, 32)                   2080      ['dense_60[0][0]']            \n",
            "                                                                                                  \n",
            " dense_62 (Dense)            (None, 16)                   528       ['dense_61[0][0]']            \n",
            "                                                                                                  \n",
            " dense_63 (Dense)            (None, 1)                    17        ['dense_62[0][0]']            \n",
            "                                                                                                  \n",
            "==================================================================================================\n",
            "Total params: 40229 (157.14 KB)\n",
            "Trainable params: 40229 (157.14 KB)\n",
            "Non-trainable params: 0 (0.00 Byte)\n",
            "__________________________________________________________________________________________________\n"
          ]
        }
      ],
      "source": [
        "# Variable-length int sequences.\n",
        "Input = tf.keras.Input(shape=(None, ), dtype='float')\n",
        "# Embedding lookup.\n",
        "token_embedding = tf.keras.layers.Embedding(input_dim=vocab_size, output_dim=16)\n",
        "# Query embeddings of shape [batch_size, Tq, dimension].\n",
        "query_embeddings = token_embedding(Input)\n",
        "# Value embeddings of shape [batch_size, Tv, dimension].\n",
        "value_embeddings = token_embedding(Input)\n",
        "\n",
        "# CNN layer.\n",
        "cnn_layer = tf.keras.layers.Conv1D(\n",
        "    filters=100,\n",
        "    kernel_size=2,\n",
        "    # Use 'same' padding so outputs have the same shape as inputs.\n",
        "    padding='same')\n",
        "# Query encoding of shape [batch_size, Tq, filters].\n",
        "query_seq_encoding = cnn_layer(query_embeddings)\n",
        "# Value encoding of shape [batch_size, Tv, filters].\n",
        "value_seq_encoding = cnn_layer(value_embeddings)\n",
        "\n",
        "# Query-value attention of shape [batch_size, Tq, filters].\n",
        "query_value_attention_seq = tf.keras.layers.Attention()(\n",
        "    [query_seq_encoding, value_seq_encoding])\n",
        "\n",
        "# Reduce over the sequence axis to produce encodings of shape\n",
        "# [batch_size, filters].\n",
        "query_encoding = tf.keras.layers.GlobalAveragePooling1D()(\n",
        "    query_seq_encoding)\n",
        "query_value_attention = tf.keras.layers.GlobalAveragePooling1D()(\n",
        "    query_value_attention_seq)\n",
        "\n",
        "# Concatenate query and document encodings to produce a DNN input layer.\n",
        "input_layer = tf.keras.layers.Concatenate()(\n",
        "    [query_encoding, query_value_attention])\n",
        "\n",
        "x = tf.keras.layers.Dense(128, activation = \"relu\")(input_layer)\n",
        "x = tf.keras.layers.Dense(64, activation = \"relu\")(x)\n",
        "x = tf.keras.layers.Dense(32, activation = \"relu\")(x)\n",
        "x = tf.keras.layers.Dense(16, activation = \"relu\")(x)\n",
        "output = tf.keras.layers.Dense(1, activation = \"sigmoid\") (x)\n",
        "\n",
        "model = tf.keras.Model(inputs= Input, outputs = output)\n",
        "model.compile(optimizer = \"adam\", metrics = [\"accuracy\"], loss = \"binary_crossentropy\")\n",
        "model.summary()\n"
      ]
    },
    {
      "cell_type": "markdown",
      "metadata": {
        "id": "tEaUOtdEHov0"
      },
      "source": [
        "### Training the model"
      ]
    },
    {
      "cell_type": "code",
      "execution_count": null,
      "metadata": {
        "id": "Mjg8AssrxN6u"
      },
      "outputs": [],
      "source": [
        "early_stopping = tf.keras.callbacks.EarlyStopping(patience=10, restore_best_weights=True, monitor = \"val_loss\")\n",
        "reduce_lr = tf.keras.callbacks.ReduceLROnPlateau(monitor='val_loss', factor=0.2, patience=5, min_lr=0.0001)"
      ]
    },
    {
      "cell_type": "code",
      "execution_count": null,
      "metadata": {
        "id": "Pm9595-m9X-7"
      },
      "outputs": [],
      "source": [
        "model.fit(x_integer_encoded_pad, y_train, validation_data= (x_val_encoded_pad, y_val), callbacks = [early_stopping, reduce_lr], epochs = 60)"
      ]
    },
    {
      "cell_type": "markdown",
      "metadata": {
        "id": "j2ke4lJbHBjK"
      },
      "source": [
        "### Refitting the model on the entire dataset after reinitializing"
      ]
    },
    {
      "cell_type": "code",
      "execution_count": null,
      "metadata": {
        "id": "MP9x3GSY80H5"
      },
      "outputs": [],
      "source": [
        "x = pad_enc(df_train[\"Sequence\"])"
      ]
    },
    {
      "cell_type": "code",
      "execution_count": null,
      "metadata": {
        "colab": {
          "base_uri": "https://localhost:8080/"
        },
        "id": "m6DOAv_-9EMd",
        "outputId": "56975da5-fd71-4fcb-c9f1-a2393fe71e54"
      },
      "outputs": [
        {
          "data": {
            "text/plain": [
              "array([[ 0,  0,  0, ..., 16, 12, 17],\n",
              "       [ 0,  0,  0, ...,  0, 16,  9],\n",
              "       [ 0,  0,  0, ...,  2,  7,  5],\n",
              "       ...,\n",
              "       [ 0,  0,  0, ...,  5,  0,  3],\n",
              "       [ 0,  0,  0, ...,  2,  2,  5],\n",
              "       [ 0,  0,  0, ...,  2,  2,  3]], dtype=int32)"
            ]
          },
          "execution_count": 122,
          "metadata": {},
          "output_type": "execute_result"
        }
      ],
      "source": [
        "x"
      ]
    },
    {
      "cell_type": "code",
      "execution_count": null,
      "metadata": {
        "colab": {
          "base_uri": "https://localhost:8080/"
        },
        "id": "QfXEoXj2xP0e",
        "outputId": "63d760db-9df1-40ec-b79b-4cfe2aeb2cb0"
      },
      "outputs": [
        {
          "name": "stdout",
          "output_type": "stream",
          "text": [
            "Epoch 1/40\n",
            "48/48 [==============================] - 14s 225ms/step - loss: 0.5861 - accuracy: 0.7444\n",
            "Epoch 2/40\n",
            "48/48 [==============================] - 11s 228ms/step - loss: 0.5568 - accuracy: 0.7444\n",
            "Epoch 3/40\n",
            "48/48 [==============================] - 11s 230ms/step - loss: 0.5408 - accuracy: 0.7523\n",
            "Epoch 4/40\n",
            "48/48 [==============================] - 11s 231ms/step - loss: 0.5134 - accuracy: 0.7497\n",
            "Epoch 5/40\n",
            "48/48 [==============================] - 11s 233ms/step - loss: 0.5052 - accuracy: 0.7503\n",
            "Epoch 6/40\n",
            "48/48 [==============================] - 11s 235ms/step - loss: 0.5011 - accuracy: 0.7589\n",
            "Epoch 7/40\n",
            "48/48 [==============================] - 11s 238ms/step - loss: 0.4929 - accuracy: 0.7602\n",
            "Epoch 8/40\n",
            "48/48 [==============================] - 11s 239ms/step - loss: 0.4926 - accuracy: 0.7688\n",
            "Epoch 9/40\n",
            "48/48 [==============================] - 11s 240ms/step - loss: 0.4937 - accuracy: 0.7781\n",
            "Epoch 10/40\n",
            "48/48 [==============================] - 12s 240ms/step - loss: 0.4645 - accuracy: 0.7926\n",
            "Epoch 11/40\n",
            "48/48 [==============================] - 12s 241ms/step - loss: 0.4277 - accuracy: 0.8296\n",
            "Epoch 12/40\n",
            "48/48 [==============================] - 12s 240ms/step - loss: 0.4271 - accuracy: 0.8296\n",
            "Epoch 13/40\n",
            "48/48 [==============================] - 12s 240ms/step - loss: 0.4035 - accuracy: 0.8468\n",
            "Epoch 14/40\n",
            "48/48 [==============================] - 12s 241ms/step - loss: 0.3894 - accuracy: 0.8454\n",
            "Epoch 15/40\n",
            "48/48 [==============================] - 12s 243ms/step - loss: 0.3980 - accuracy: 0.8468\n",
            "Epoch 16/40\n",
            "48/48 [==============================] - 12s 245ms/step - loss: 0.3862 - accuracy: 0.8408\n",
            "Epoch 17/40\n",
            "48/48 [==============================] - 12s 244ms/step - loss: 0.3867 - accuracy: 0.8507\n",
            "Epoch 18/40\n",
            "48/48 [==============================] - 12s 245ms/step - loss: 0.4288 - accuracy: 0.8236\n",
            "Epoch 19/40\n",
            "48/48 [==============================] - 12s 245ms/step - loss: 0.3781 - accuracy: 0.8547\n",
            "Epoch 20/40\n",
            "48/48 [==============================] - 12s 245ms/step - loss: 0.3905 - accuracy: 0.8468\n",
            "Epoch 21/40\n",
            "48/48 [==============================] - 12s 246ms/step - loss: 0.3821 - accuracy: 0.8402\n",
            "Epoch 22/40\n",
            "48/48 [==============================] - 12s 246ms/step - loss: 0.3807 - accuracy: 0.8474\n",
            "Epoch 23/40\n",
            "48/48 [==============================] - 12s 246ms/step - loss: 0.3760 - accuracy: 0.8520\n",
            "Epoch 24/40\n",
            "48/48 [==============================] - 12s 246ms/step - loss: 0.3733 - accuracy: 0.8487\n",
            "Epoch 25/40\n",
            "48/48 [==============================] - 12s 246ms/step - loss: 0.3742 - accuracy: 0.8534\n",
            "Epoch 26/40\n",
            "48/48 [==============================] - 12s 246ms/step - loss: 0.3766 - accuracy: 0.8441\n",
            "Epoch 27/40\n",
            "48/48 [==============================] - 12s 247ms/step - loss: 0.3749 - accuracy: 0.8468\n",
            "Epoch 28/40\n",
            "48/48 [==============================] - 12s 246ms/step - loss: 0.3768 - accuracy: 0.8520\n",
            "Epoch 29/40\n",
            "48/48 [==============================] - 12s 246ms/step - loss: 0.3745 - accuracy: 0.8468\n",
            "Epoch 30/40\n",
            "48/48 [==============================] - 12s 246ms/step - loss: 0.3761 - accuracy: 0.8454\n",
            "Epoch 31/40\n",
            "48/48 [==============================] - 12s 245ms/step - loss: 0.3752 - accuracy: 0.8454\n",
            "Epoch 32/40\n",
            "48/48 [==============================] - 12s 245ms/step - loss: 0.3697 - accuracy: 0.8514\n",
            "Epoch 33/40\n",
            "48/48 [==============================] - 12s 245ms/step - loss: 0.3870 - accuracy: 0.8362\n",
            "Epoch 34/40\n",
            "48/48 [==============================] - 12s 245ms/step - loss: 0.3793 - accuracy: 0.8448\n",
            "Epoch 35/40\n",
            "48/48 [==============================] - 12s 245ms/step - loss: 0.3701 - accuracy: 0.8481\n",
            "Epoch 36/40\n",
            "48/48 [==============================] - 12s 245ms/step - loss: 0.3702 - accuracy: 0.8487\n",
            "Epoch 37/40\n",
            "48/48 [==============================] - 12s 246ms/step - loss: 0.3707 - accuracy: 0.8481\n",
            "Epoch 38/40\n",
            "48/48 [==============================] - 12s 246ms/step - loss: 0.3759 - accuracy: 0.8461\n",
            "Epoch 39/40\n",
            "48/48 [==============================] - 12s 245ms/step - loss: 0.3709 - accuracy: 0.8408\n",
            "Epoch 40/40\n",
            "48/48 [==============================] - 12s 245ms/step - loss: 0.3791 - accuracy: 0.8428\n"
          ]
        },
        {
          "data": {
            "text/plain": [
              "<keras.src.callbacks.History at 0x7ba716e25900>"
            ]
          },
          "execution_count": 123,
          "metadata": {},
          "output_type": "execute_result"
        }
      ],
      "source": [
        "model.fit(x, df_train[\"Label\"].values, epochs = 40)"
      ]
    },
    {
      "cell_type": "markdown",
      "metadata": {
        "id": "XFP4Te3gHMfZ"
      },
      "source": [
        "### Getting test predictions"
      ]
    },
    {
      "cell_type": "code",
      "execution_count": null,
      "metadata": {
        "colab": {
          "base_uri": "https://localhost:8080/",
          "height": 206
        },
        "id": "locR2rUa26w7",
        "outputId": "8d9c6d4c-5e90-42fa-afc6-5c756479cc9a"
      },
      "outputs": [
        {
          "data": {
            "text/html": [
              "\n",
              "  <div id=\"df-ae666d12-6314-4ef7-b46d-89636007ace7\" class=\"colab-df-container\">\n",
              "    <div>\n",
              "<style scoped>\n",
              "    .dataframe tbody tr th:only-of-type {\n",
              "        vertical-align: middle;\n",
              "    }\n",
              "\n",
              "    .dataframe tbody tr th {\n",
              "        vertical-align: top;\n",
              "    }\n",
              "\n",
              "    .dataframe thead th {\n",
              "        text-align: right;\n",
              "    }\n",
              "</style>\n",
              "<table border=\"1\" class=\"dataframe\">\n",
              "  <thead>\n",
              "    <tr style=\"text-align: right;\">\n",
              "      <th></th>\n",
              "      <th>ID</th>\n",
              "      <th>Sequence</th>\n",
              "    </tr>\n",
              "  </thead>\n",
              "  <tbody>\n",
              "    <tr>\n",
              "      <th>0</th>\n",
              "      <td>501</td>\n",
              "      <td>ASNFTQFVLVNDGGTGNVTVAPSNFANGVAEWISSNSRSQAYKVTC...</td>\n",
              "    </tr>\n",
              "    <tr>\n",
              "      <th>1</th>\n",
              "      <td>502</td>\n",
              "      <td>ASNFTQFVLVNDGGTGNVTVAPSNFANGVAEWISSNSRSQAYKVTC...</td>\n",
              "    </tr>\n",
              "    <tr>\n",
              "      <th>2</th>\n",
              "      <td>503</td>\n",
              "      <td>MAATHTLPLASPGMARICLYGDLQRFGRRIDLRVKTGAEAIRALAT...</td>\n",
              "    </tr>\n",
              "    <tr>\n",
              "      <th>3</th>\n",
              "      <td>504</td>\n",
              "      <td>MADLKVGSTTGGSVIWHQGNFPLNPAGDDVLYKSFKIYSEYNKPQA...</td>\n",
              "    </tr>\n",
              "    <tr>\n",
              "      <th>4</th>\n",
              "      <td>505</td>\n",
              "      <td>MADLKVGSTTGGSVIWHQGNFPLNPAGDDVLYKSFKIYSEYNKPQA...</td>\n",
              "    </tr>\n",
              "  </tbody>\n",
              "</table>\n",
              "</div>\n",
              "    <div class=\"colab-df-buttons\">\n",
              "\n",
              "  <div class=\"colab-df-container\">\n",
              "    <button class=\"colab-df-convert\" onclick=\"convertToInteractive('df-ae666d12-6314-4ef7-b46d-89636007ace7')\"\n",
              "            title=\"Convert this dataframe to an interactive table.\"\n",
              "            style=\"display:none;\">\n",
              "\n",
              "  <svg xmlns=\"http://www.w3.org/2000/svg\" height=\"24px\" viewBox=\"0 -960 960 960\">\n",
              "    <path d=\"M120-120v-720h720v720H120Zm60-500h600v-160H180v160Zm220 220h160v-160H400v160Zm0 220h160v-160H400v160ZM180-400h160v-160H180v160Zm440 0h160v-160H620v160ZM180-180h160v-160H180v160Zm440 0h160v-160H620v160Z\"/>\n",
              "  </svg>\n",
              "    </button>\n",
              "\n",
              "  <style>\n",
              "    .colab-df-container {\n",
              "      display:flex;\n",
              "      gap: 12px;\n",
              "    }\n",
              "\n",
              "    .colab-df-convert {\n",
              "      background-color: #E8F0FE;\n",
              "      border: none;\n",
              "      border-radius: 50%;\n",
              "      cursor: pointer;\n",
              "      display: none;\n",
              "      fill: #1967D2;\n",
              "      height: 32px;\n",
              "      padding: 0 0 0 0;\n",
              "      width: 32px;\n",
              "    }\n",
              "\n",
              "    .colab-df-convert:hover {\n",
              "      background-color: #E2EBFA;\n",
              "      box-shadow: 0px 1px 2px rgba(60, 64, 67, 0.3), 0px 1px 3px 1px rgba(60, 64, 67, 0.15);\n",
              "      fill: #174EA6;\n",
              "    }\n",
              "\n",
              "    .colab-df-buttons div {\n",
              "      margin-bottom: 4px;\n",
              "    }\n",
              "\n",
              "    [theme=dark] .colab-df-convert {\n",
              "      background-color: #3B4455;\n",
              "      fill: #D2E3FC;\n",
              "    }\n",
              "\n",
              "    [theme=dark] .colab-df-convert:hover {\n",
              "      background-color: #434B5C;\n",
              "      box-shadow: 0px 1px 3px 1px rgba(0, 0, 0, 0.15);\n",
              "      filter: drop-shadow(0px 1px 2px rgba(0, 0, 0, 0.3));\n",
              "      fill: #FFFFFF;\n",
              "    }\n",
              "  </style>\n",
              "\n",
              "    <script>\n",
              "      const buttonEl =\n",
              "        document.querySelector('#df-ae666d12-6314-4ef7-b46d-89636007ace7 button.colab-df-convert');\n",
              "      buttonEl.style.display =\n",
              "        google.colab.kernel.accessAllowed ? 'block' : 'none';\n",
              "\n",
              "      async function convertToInteractive(key) {\n",
              "        const element = document.querySelector('#df-ae666d12-6314-4ef7-b46d-89636007ace7');\n",
              "        const dataTable =\n",
              "          await google.colab.kernel.invokeFunction('convertToInteractive',\n",
              "                                                    [key], {});\n",
              "        if (!dataTable) return;\n",
              "\n",
              "        const docLinkHtml = 'Like what you see? Visit the ' +\n",
              "          '<a target=\"_blank\" href=https://colab.research.google.com/notebooks/data_table.ipynb>data table notebook</a>'\n",
              "          + ' to learn more about interactive tables.';\n",
              "        element.innerHTML = '';\n",
              "        dataTable['output_type'] = 'display_data';\n",
              "        await google.colab.output.renderOutput(dataTable, element);\n",
              "        const docLink = document.createElement('div');\n",
              "        docLink.innerHTML = docLinkHtml;\n",
              "        element.appendChild(docLink);\n",
              "      }\n",
              "    </script>\n",
              "  </div>\n",
              "\n",
              "\n",
              "<div id=\"df-e81e527a-f583-4feb-8e4a-dbbd3af975c7\">\n",
              "  <button class=\"colab-df-quickchart\" onclick=\"quickchart('df-e81e527a-f583-4feb-8e4a-dbbd3af975c7')\"\n",
              "            title=\"Suggest charts.\"\n",
              "            style=\"display:none;\">\n",
              "\n",
              "<svg xmlns=\"http://www.w3.org/2000/svg\" height=\"24px\"viewBox=\"0 0 24 24\"\n",
              "     width=\"24px\">\n",
              "    <g>\n",
              "        <path d=\"M19 3H5c-1.1 0-2 .9-2 2v14c0 1.1.9 2 2 2h14c1.1 0 2-.9 2-2V5c0-1.1-.9-2-2-2zM9 17H7v-7h2v7zm4 0h-2V7h2v10zm4 0h-2v-4h2v4z\"/>\n",
              "    </g>\n",
              "</svg>\n",
              "  </button>\n",
              "\n",
              "<style>\n",
              "  .colab-df-quickchart {\n",
              "      --bg-color: #E8F0FE;\n",
              "      --fill-color: #1967D2;\n",
              "      --hover-bg-color: #E2EBFA;\n",
              "      --hover-fill-color: #174EA6;\n",
              "      --disabled-fill-color: #AAA;\n",
              "      --disabled-bg-color: #DDD;\n",
              "  }\n",
              "\n",
              "  [theme=dark] .colab-df-quickchart {\n",
              "      --bg-color: #3B4455;\n",
              "      --fill-color: #D2E3FC;\n",
              "      --hover-bg-color: #434B5C;\n",
              "      --hover-fill-color: #FFFFFF;\n",
              "      --disabled-bg-color: #3B4455;\n",
              "      --disabled-fill-color: #666;\n",
              "  }\n",
              "\n",
              "  .colab-df-quickchart {\n",
              "    background-color: var(--bg-color);\n",
              "    border: none;\n",
              "    border-radius: 50%;\n",
              "    cursor: pointer;\n",
              "    display: none;\n",
              "    fill: var(--fill-color);\n",
              "    height: 32px;\n",
              "    padding: 0;\n",
              "    width: 32px;\n",
              "  }\n",
              "\n",
              "  .colab-df-quickchart:hover {\n",
              "    background-color: var(--hover-bg-color);\n",
              "    box-shadow: 0 1px 2px rgba(60, 64, 67, 0.3), 0 1px 3px 1px rgba(60, 64, 67, 0.15);\n",
              "    fill: var(--button-hover-fill-color);\n",
              "  }\n",
              "\n",
              "  .colab-df-quickchart-complete:disabled,\n",
              "  .colab-df-quickchart-complete:disabled:hover {\n",
              "    background-color: var(--disabled-bg-color);\n",
              "    fill: var(--disabled-fill-color);\n",
              "    box-shadow: none;\n",
              "  }\n",
              "\n",
              "  .colab-df-spinner {\n",
              "    border: 2px solid var(--fill-color);\n",
              "    border-color: transparent;\n",
              "    border-bottom-color: var(--fill-color);\n",
              "    animation:\n",
              "      spin 1s steps(1) infinite;\n",
              "  }\n",
              "\n",
              "  @keyframes spin {\n",
              "    0% {\n",
              "      border-color: transparent;\n",
              "      border-bottom-color: var(--fill-color);\n",
              "      border-left-color: var(--fill-color);\n",
              "    }\n",
              "    20% {\n",
              "      border-color: transparent;\n",
              "      border-left-color: var(--fill-color);\n",
              "      border-top-color: var(--fill-color);\n",
              "    }\n",
              "    30% {\n",
              "      border-color: transparent;\n",
              "      border-left-color: var(--fill-color);\n",
              "      border-top-color: var(--fill-color);\n",
              "      border-right-color: var(--fill-color);\n",
              "    }\n",
              "    40% {\n",
              "      border-color: transparent;\n",
              "      border-right-color: var(--fill-color);\n",
              "      border-top-color: var(--fill-color);\n",
              "    }\n",
              "    60% {\n",
              "      border-color: transparent;\n",
              "      border-right-color: var(--fill-color);\n",
              "    }\n",
              "    80% {\n",
              "      border-color: transparent;\n",
              "      border-right-color: var(--fill-color);\n",
              "      border-bottom-color: var(--fill-color);\n",
              "    }\n",
              "    90% {\n",
              "      border-color: transparent;\n",
              "      border-bottom-color: var(--fill-color);\n",
              "    }\n",
              "  }\n",
              "</style>\n",
              "\n",
              "  <script>\n",
              "    async function quickchart(key) {\n",
              "      const quickchartButtonEl =\n",
              "        document.querySelector('#' + key + ' button');\n",
              "      quickchartButtonEl.disabled = true;  // To prevent multiple clicks.\n",
              "      quickchartButtonEl.classList.add('colab-df-spinner');\n",
              "      try {\n",
              "        const charts = await google.colab.kernel.invokeFunction(\n",
              "            'suggestCharts', [key], {});\n",
              "      } catch (error) {\n",
              "        console.error('Error during call to suggestCharts:', error);\n",
              "      }\n",
              "      quickchartButtonEl.classList.remove('colab-df-spinner');\n",
              "      quickchartButtonEl.classList.add('colab-df-quickchart-complete');\n",
              "    }\n",
              "    (() => {\n",
              "      let quickchartButtonEl =\n",
              "        document.querySelector('#df-e81e527a-f583-4feb-8e4a-dbbd3af975c7 button');\n",
              "      quickchartButtonEl.style.display =\n",
              "        google.colab.kernel.accessAllowed ? 'block' : 'none';\n",
              "    })();\n",
              "  </script>\n",
              "</div>\n",
              "    </div>\n",
              "  </div>\n"
            ],
            "text/plain": [
              "    ID                                           Sequence\n",
              "0  501  ASNFTQFVLVNDGGTGNVTVAPSNFANGVAEWISSNSRSQAYKVTC...\n",
              "1  502  ASNFTQFVLVNDGGTGNVTVAPSNFANGVAEWISSNSRSQAYKVTC...\n",
              "2  503  MAATHTLPLASPGMARICLYGDLQRFGRRIDLRVKTGAEAIRALAT...\n",
              "3  504  MADLKVGSTTGGSVIWHQGNFPLNPAGDDVLYKSFKIYSEYNKPQA...\n",
              "4  505  MADLKVGSTTGGSVIWHQGNFPLNPAGDDVLYKSFKIYSEYNKPQA..."
            ]
          },
          "execution_count": 7,
          "metadata": {},
          "output_type": "execute_result"
        }
      ],
      "source": [
        "df_test = pd.read_csv(\"/content/drive/MyDrive/mlba/test.csv\")\n",
        "df_test.head()"
      ]
    },
    {
      "cell_type": "code",
      "execution_count": null,
      "metadata": {
        "id": "gy6qRjmJ6Pfk"
      },
      "outputs": [],
      "source": [
        "x_test = df_test[\"Sequence\"]\n",
        "integer_encoder = LabelEncoder()\n",
        "integer_encoder.fit(list('ACDEFGHIKLMNPQRSTVWY'))\n",
        "X_test_encoded = [integer_encoder.transform(list(seq)) for seq in x_test]\n",
        "\n",
        "x_test_encoded_pad = tf.keras.preprocessing.sequence.pad_sequences(X_test_encoded)"
      ]
    },
    {
      "cell_type": "code",
      "execution_count": null,
      "metadata": {
        "colab": {
          "base_uri": "https://localhost:8080/"
        },
        "id": "NbpWnaWP6d7M",
        "outputId": "797754b8-3dd4-4a45-e325-a25399087a85"
      },
      "outputs": [
        {
          "data": {
            "text/plain": [
              "(310, 1289)"
            ]
          },
          "execution_count": 87,
          "metadata": {},
          "output_type": "execute_result"
        }
      ],
      "source": [
        "x_test_encoded_pad.shape"
      ]
    },
    {
      "cell_type": "code",
      "execution_count": null,
      "metadata": {
        "colab": {
          "base_uri": "https://localhost:8080/"
        },
        "id": "j6AO4mpY6j5D",
        "outputId": "5878bb8a-bfa3-4eb8-bf3e-885ce6eab90d"
      },
      "outputs": [
        {
          "name": "stdout",
          "output_type": "stream",
          "text": [
            "10/10 [==============================] - 0s 17ms/step\n"
          ]
        }
      ],
      "source": [
        "preds = model.predict(x_test_encoded_pad).flatten()"
      ]
    },
    {
      "cell_type": "code",
      "execution_count": null,
      "metadata": {
        "id": "H1HM6GTmXb9Y"
      },
      "outputs": [],
      "source": [
        "preds = [i[1] for i in y_pred]\n",
        "preds = np.array(preds)"
      ]
    },
    {
      "cell_type": "markdown",
      "metadata": {
        "id": "wKZIAuyxHVxE"
      },
      "source": [
        "### Saving as CSV"
      ]
    },
    {
      "cell_type": "code",
      "execution_count": null,
      "metadata": {
        "id": "NNeWJhCU6mom"
      },
      "outputs": [],
      "source": [
        "final = {\"ID\":df_test[\"ID\"].values, \"Label\": preds}\n",
        "final_df = pd.DataFrame(final)\n",
        "final_df.head()"
      ]
    },
    {
      "cell_type": "code",
      "execution_count": null,
      "metadata": {
        "id": "Xu0kmssy7D2j"
      },
      "outputs": [],
      "source": [
        "final_df.to_csv(\"/content/drive/MyDrive/mlba/gruop80_predictions_output.csv\", index = False)"
      ]
    }
  ],
  "metadata": {
    "accelerator": "GPU",
    "colab": {
      "gpuType": "T4",
      "provenance": []
    },
    "kernelspec": {
      "display_name": "Python 3",
      "name": "python3"
    },
    "language_info": {
      "name": "python"
    }
  },
  "nbformat": 4,
  "nbformat_minor": 0
}
