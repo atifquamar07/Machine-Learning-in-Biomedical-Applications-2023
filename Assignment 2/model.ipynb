{
  "cells": [
    {
      "cell_type": "markdown",
      "metadata": {},
      "source": [
        "### Importing all the required libraries"
      ]
    },
    {
      "cell_type": "code",
      "execution_count": 31,
      "metadata": {
        "id": "rkZxKQ2Z2Zs1"
      },
      "outputs": [],
      "source": [
        "import pandas as pd\n",
        "import numpy as np\n",
        "from sklearn.ensemble import RandomForestClassifier\n",
        "from sklearn.metrics import roc_auc_score\n",
        "from sklearn.model_selection import train_test_split\n",
        "from sklearn.feature_selection import SelectKBest"
      ]
    },
    {
      "cell_type": "code",
      "execution_count": 32,
      "metadata": {
        "id": "S1mVXWF9qSDK"
      },
      "outputs": [],
      "source": [
        "# path for train and test data\n",
        "train_data_path = 'datasets/train.csv'\n",
        "test_data_path = 'datasets/test.csv' "
      ]
    },
    {
      "cell_type": "code",
      "execution_count": 33,
      "metadata": {
        "id": "ieX1tynrmZWK"
      },
      "outputs": [],
      "source": [
        "#Converting the data into pandas dataframes\n",
        "dataset = pd.read_csv(train_data_path)\n",
        "test_data = pd.read_csv(test_data_path)"
      ]
    },
    {
      "cell_type": "code",
      "execution_count": 34,
      "metadata": {
        "colab": {
          "base_uri": "https://localhost:8080/"
        },
        "id": "F1JqgyYGmZgB",
        "outputId": "8726b192-b0d2-4fc9-d8bc-8de4af4b02be"
      },
      "outputs": [
        {
          "name": "stdout",
          "output_type": "stream",
          "text": [
            "Shape of the traning data is  (252, 319)\n"
          ]
        }
      ],
      "source": [
        "# Prints shape of training data\n",
        "print(\"Shape of the traning data is \",dataset.shape)"
      ]
    },
    {
      "cell_type": "code",
      "execution_count": 35,
      "metadata": {
        "colab": {
          "base_uri": "https://localhost:8080/"
        },
        "id": "mdRR8Q3lmZmF",
        "outputId": "384abc5f-09cf-40da-c1f9-c6f4023a566a"
      },
      "outputs": [
        {
          "name": "stdout",
          "output_type": "stream",
          "text": [
            "Shape of the testing data is  (104, 319)\n"
          ]
        }
      ],
      "source": [
        "# Prints shape of training data\n",
        "print(\"Shape of the testing data is \",test_data.shape)"
      ]
    },
    {
      "cell_type": "code",
      "execution_count": 36,
      "metadata": {
        "colab": {
          "base_uri": "https://localhost:8080/",
          "height": 255
        },
        "id": "rKP__AExenlu",
        "outputId": "b23d7bbf-7ee2-4d7b-c6d2-a27629fe214a"
      },
      "outputs": [
        {
          "data": {
            "text/html": [
              "<div>\n",
              "<style scoped>\n",
              "    .dataframe tbody tr th:only-of-type {\n",
              "        vertical-align: middle;\n",
              "    }\n",
              "\n",
              "    .dataframe tbody tr th {\n",
              "        vertical-align: top;\n",
              "    }\n",
              "\n",
              "    .dataframe thead th {\n",
              "        text-align: right;\n",
              "    }\n",
              "</style>\n",
              "<table border=\"1\" class=\"dataframe\">\n",
              "  <thead>\n",
              "    <tr style=\"text-align: right;\">\n",
              "      <th></th>\n",
              "      <th>Labels</th>\n",
              "      <th>ACAN</th>\n",
              "      <th>AGER</th>\n",
              "      <th>ALPK1</th>\n",
              "      <th>ANKRD17</th>\n",
              "      <th>APOB</th>\n",
              "      <th>APPL1</th>\n",
              "      <th>APPL2</th>\n",
              "      <th>ARRB2</th>\n",
              "      <th>ASGR1</th>\n",
              "      <th>...</th>\n",
              "      <th>UBE2N</th>\n",
              "      <th>UBE2V1</th>\n",
              "      <th>UBQLN1</th>\n",
              "      <th>UFD1</th>\n",
              "      <th>UNC93B1</th>\n",
              "      <th>USP17L2</th>\n",
              "      <th>VCAN</th>\n",
              "      <th>WDFY1</th>\n",
              "      <th>XIAP</th>\n",
              "      <th>ZCCHC3</th>\n",
              "    </tr>\n",
              "  </thead>\n",
              "  <tbody>\n",
              "    <tr>\n",
              "      <th>0</th>\n",
              "      <td>0</td>\n",
              "      <td>13.6584</td>\n",
              "      <td>88.0205</td>\n",
              "      <td>402.5420</td>\n",
              "      <td>1424.2625</td>\n",
              "      <td>3.7940</td>\n",
              "      <td>1001.2330</td>\n",
              "      <td>508.0148</td>\n",
              "      <td>567.2010</td>\n",
              "      <td>13.6584</td>\n",
              "      <td>...</td>\n",
              "      <td>2437.6363</td>\n",
              "      <td>3413.2107</td>\n",
              "      <td>4135.4453</td>\n",
              "      <td>950.0104</td>\n",
              "      <td>1434.1269</td>\n",
              "      <td>0.0000</td>\n",
              "      <td>31.8695</td>\n",
              "      <td>923.0769</td>\n",
              "      <td>1046.0021</td>\n",
              "      <td>819.1217</td>\n",
              "    </tr>\n",
              "    <tr>\n",
              "      <th>1</th>\n",
              "      <td>0</td>\n",
              "      <td>22.0844</td>\n",
              "      <td>86.3807</td>\n",
              "      <td>690.4861</td>\n",
              "      <td>2226.3285</td>\n",
              "      <td>20.4071</td>\n",
              "      <td>486.9744</td>\n",
              "      <td>1448.0640</td>\n",
              "      <td>651.9083</td>\n",
              "      <td>11.1820</td>\n",
              "      <td>...</td>\n",
              "      <td>2153.9253</td>\n",
              "      <td>1817.3762</td>\n",
              "      <td>3426.4325</td>\n",
              "      <td>1380.1196</td>\n",
              "      <td>815.7241</td>\n",
              "      <td>0.0000</td>\n",
              "      <td>1651.0166</td>\n",
              "      <td>1473.7825</td>\n",
              "      <td>1618.8684</td>\n",
              "      <td>615.8465</td>\n",
              "    </tr>\n",
              "    <tr>\n",
              "      <th>2</th>\n",
              "      <td>0</td>\n",
              "      <td>32.7422</td>\n",
              "      <td>53.0820</td>\n",
              "      <td>128.4882</td>\n",
              "      <td>1073.0497</td>\n",
              "      <td>0.0000</td>\n",
              "      <td>654.8431</td>\n",
              "      <td>492.6206</td>\n",
              "      <td>512.9604</td>\n",
              "      <td>13.8906</td>\n",
              "      <td>...</td>\n",
              "      <td>3122.4110</td>\n",
              "      <td>3720.6995</td>\n",
              "      <td>3000.3721</td>\n",
              "      <td>2681.3791</td>\n",
              "      <td>1429.2447</td>\n",
              "      <td>0.4961</td>\n",
              "      <td>693.5384</td>\n",
              "      <td>477.2417</td>\n",
              "      <td>1064.6161</td>\n",
              "      <td>804.1672</td>\n",
              "    </tr>\n",
              "    <tr>\n",
              "      <th>3</th>\n",
              "      <td>0</td>\n",
              "      <td>22.7975</td>\n",
              "      <td>42.1175</td>\n",
              "      <td>634.0804</td>\n",
              "      <td>3285.5487</td>\n",
              "      <td>0.0000</td>\n",
              "      <td>574.9614</td>\n",
              "      <td>513.9104</td>\n",
              "      <td>1033.2303</td>\n",
              "      <td>31.6847</td>\n",
              "      <td>...</td>\n",
              "      <td>2663.4467</td>\n",
              "      <td>3217.9212</td>\n",
              "      <td>4131.3756</td>\n",
              "      <td>1178.8640</td>\n",
              "      <td>1018.5471</td>\n",
              "      <td>0.0000</td>\n",
              "      <td>675.0386</td>\n",
              "      <td>1596.5997</td>\n",
              "      <td>1666.1515</td>\n",
              "      <td>402.6275</td>\n",
              "    </tr>\n",
              "    <tr>\n",
              "      <th>4</th>\n",
              "      <td>0</td>\n",
              "      <td>2.5000</td>\n",
              "      <td>134.0625</td>\n",
              "      <td>532.1875</td>\n",
              "      <td>936.5625</td>\n",
              "      <td>0.0000</td>\n",
              "      <td>1933.4375</td>\n",
              "      <td>679.3750</td>\n",
              "      <td>1175.6250</td>\n",
              "      <td>6.5625</td>\n",
              "      <td>...</td>\n",
              "      <td>1898.4375</td>\n",
              "      <td>3009.1375</td>\n",
              "      <td>2549.3750</td>\n",
              "      <td>1293.1156</td>\n",
              "      <td>744.6875</td>\n",
              "      <td>0.0000</td>\n",
              "      <td>69.0625</td>\n",
              "      <td>1651.5625</td>\n",
              "      <td>1250.3125</td>\n",
              "      <td>982.5000</td>\n",
              "    </tr>\n",
              "  </tbody>\n",
              "</table>\n",
              "<p>5 rows × 319 columns</p>\n",
              "</div>"
            ],
            "text/plain": [
              "   Labels     ACAN      AGER     ALPK1    ANKRD17     APOB      APPL1  \\\n",
              "0       0  13.6584   88.0205  402.5420  1424.2625   3.7940  1001.2330   \n",
              "1       0  22.0844   86.3807  690.4861  2226.3285  20.4071   486.9744   \n",
              "2       0  32.7422   53.0820  128.4882  1073.0497   0.0000   654.8431   \n",
              "3       0  22.7975   42.1175  634.0804  3285.5487   0.0000   574.9614   \n",
              "4       0   2.5000  134.0625  532.1875   936.5625   0.0000  1933.4375   \n",
              "\n",
              "       APPL2      ARRB2    ASGR1  ...      UBE2N     UBE2V1     UBQLN1  \\\n",
              "0   508.0148   567.2010  13.6584  ...  2437.6363  3413.2107  4135.4453   \n",
              "1  1448.0640   651.9083  11.1820  ...  2153.9253  1817.3762  3426.4325   \n",
              "2   492.6206   512.9604  13.8906  ...  3122.4110  3720.6995  3000.3721   \n",
              "3   513.9104  1033.2303  31.6847  ...  2663.4467  3217.9212  4131.3756   \n",
              "4   679.3750  1175.6250   6.5625  ...  1898.4375  3009.1375  2549.3750   \n",
              "\n",
              "        UFD1    UNC93B1  USP17L2       VCAN      WDFY1       XIAP    ZCCHC3  \n",
              "0   950.0104  1434.1269   0.0000    31.8695   923.0769  1046.0021  819.1217  \n",
              "1  1380.1196   815.7241   0.0000  1651.0166  1473.7825  1618.8684  615.8465  \n",
              "2  2681.3791  1429.2447   0.4961   693.5384   477.2417  1064.6161  804.1672  \n",
              "3  1178.8640  1018.5471   0.0000   675.0386  1596.5997  1666.1515  402.6275  \n",
              "4  1293.1156   744.6875   0.0000    69.0625  1651.5625  1250.3125  982.5000  \n",
              "\n",
              "[5 rows x 319 columns]"
            ]
          },
          "execution_count": 36,
          "metadata": {},
          "output_type": "execute_result"
        }
      ],
      "source": [
        "# Display the first few rows of the dataset\n",
        "dataset.head()"
      ]
    },
    {
      "cell_type": "code",
      "execution_count": 49,
      "metadata": {},
      "outputs": [
        {
          "data": {
            "text/html": [
              "<div>\n",
              "<style scoped>\n",
              "    .dataframe tbody tr th:only-of-type {\n",
              "        vertical-align: middle;\n",
              "    }\n",
              "\n",
              "    .dataframe tbody tr th {\n",
              "        vertical-align: top;\n",
              "    }\n",
              "\n",
              "    .dataframe thead th {\n",
              "        text-align: right;\n",
              "    }\n",
              "</style>\n",
              "<table border=\"1\" class=\"dataframe\">\n",
              "  <thead>\n",
              "    <tr style=\"text-align: right;\">\n",
              "      <th></th>\n",
              "      <th>ID</th>\n",
              "      <th>ACAN</th>\n",
              "      <th>AGER</th>\n",
              "      <th>ALPK1</th>\n",
              "      <th>ANKRD17</th>\n",
              "      <th>APOB</th>\n",
              "      <th>APPL1</th>\n",
              "      <th>APPL2</th>\n",
              "      <th>ARRB2</th>\n",
              "      <th>ASGR1</th>\n",
              "      <th>...</th>\n",
              "      <th>UBE2N</th>\n",
              "      <th>UBE2V1</th>\n",
              "      <th>UBQLN1</th>\n",
              "      <th>UFD1</th>\n",
              "      <th>UNC93B1</th>\n",
              "      <th>USP17L2</th>\n",
              "      <th>VCAN</th>\n",
              "      <th>WDFY1</th>\n",
              "      <th>XIAP</th>\n",
              "      <th>ZCCHC3</th>\n",
              "    </tr>\n",
              "  </thead>\n",
              "  <tbody>\n",
              "    <tr>\n",
              "      <th>0</th>\n",
              "      <td>1001</td>\n",
              "      <td>91.3265</td>\n",
              "      <td>132.5226</td>\n",
              "      <td>331.5548</td>\n",
              "      <td>1658.7666</td>\n",
              "      <td>0.0000</td>\n",
              "      <td>1068.6189</td>\n",
              "      <td>571.2868</td>\n",
              "      <td>699.8387</td>\n",
              "      <td>9.4305</td>\n",
              "      <td>...</td>\n",
              "      <td>1525.2513</td>\n",
              "      <td>3320.8537</td>\n",
              "      <td>2817.7193</td>\n",
              "      <td>1397.1957</td>\n",
              "      <td>367.7876</td>\n",
              "      <td>0.4963</td>\n",
              "      <td>699.3424</td>\n",
              "      <td>995.6570</td>\n",
              "      <td>1219.0098</td>\n",
              "      <td>840.7991</td>\n",
              "    </tr>\n",
              "    <tr>\n",
              "      <th>1</th>\n",
              "      <td>1002</td>\n",
              "      <td>17.5971</td>\n",
              "      <td>183.2524</td>\n",
              "      <td>558.8592</td>\n",
              "      <td>2321.6019</td>\n",
              "      <td>0.6068</td>\n",
              "      <td>929.0049</td>\n",
              "      <td>783.9806</td>\n",
              "      <td>1039.4417</td>\n",
              "      <td>27.3058</td>\n",
              "      <td>...</td>\n",
              "      <td>2489.6845</td>\n",
              "      <td>2102.5485</td>\n",
              "      <td>3799.1505</td>\n",
              "      <td>906.5534</td>\n",
              "      <td>1187.5000</td>\n",
              "      <td>0.0000</td>\n",
              "      <td>1967.2330</td>\n",
              "      <td>1529.7330</td>\n",
              "      <td>1083.1311</td>\n",
              "      <td>510.3155</td>\n",
              "    </tr>\n",
              "    <tr>\n",
              "      <th>2</th>\n",
              "      <td>1003</td>\n",
              "      <td>120.9309</td>\n",
              "      <td>221.8022</td>\n",
              "      <td>331.8437</td>\n",
              "      <td>891.7940</td>\n",
              "      <td>0.0000</td>\n",
              "      <td>309.4915</td>\n",
              "      <td>403.4852</td>\n",
              "      <td>1430.5385</td>\n",
              "      <td>49.8625</td>\n",
              "      <td>...</td>\n",
              "      <td>1760.6628</td>\n",
              "      <td>4822.9092</td>\n",
              "      <td>3718.4831</td>\n",
              "      <td>1907.9521</td>\n",
              "      <td>1732.0061</td>\n",
              "      <td>0.0000</td>\n",
              "      <td>1190.9692</td>\n",
              "      <td>1156.5812</td>\n",
              "      <td>710.6842</td>\n",
              "      <td>689.4783</td>\n",
              "    </tr>\n",
              "    <tr>\n",
              "      <th>3</th>\n",
              "      <td>1004</td>\n",
              "      <td>12.0930</td>\n",
              "      <td>41.8605</td>\n",
              "      <td>886.5116</td>\n",
              "      <td>2216.7442</td>\n",
              "      <td>0.0000</td>\n",
              "      <td>792.5581</td>\n",
              "      <td>1012.0930</td>\n",
              "      <td>637.2093</td>\n",
              "      <td>3.7209</td>\n",
              "      <td>...</td>\n",
              "      <td>1872.5581</td>\n",
              "      <td>2342.0093</td>\n",
              "      <td>3280.9302</td>\n",
              "      <td>1115.3116</td>\n",
              "      <td>773.0233</td>\n",
              "      <td>0.0000</td>\n",
              "      <td>63.2558</td>\n",
              "      <td>1065.1163</td>\n",
              "      <td>1385.1163</td>\n",
              "      <td>563.7209</td>\n",
              "    </tr>\n",
              "    <tr>\n",
              "      <th>4</th>\n",
              "      <td>1005</td>\n",
              "      <td>84.0622</td>\n",
              "      <td>34.4995</td>\n",
              "      <td>145.7726</td>\n",
              "      <td>1266.2779</td>\n",
              "      <td>0.4859</td>\n",
              "      <td>1362.4879</td>\n",
              "      <td>830.9038</td>\n",
              "      <td>1064.1399</td>\n",
              "      <td>85.5199</td>\n",
              "      <td>...</td>\n",
              "      <td>1932.9446</td>\n",
              "      <td>3220.9184</td>\n",
              "      <td>3153.5471</td>\n",
              "      <td>1168.6054</td>\n",
              "      <td>965.5005</td>\n",
              "      <td>0.0000</td>\n",
              "      <td>1168.6103</td>\n",
              "      <td>581.6327</td>\n",
              "      <td>878.5228</td>\n",
              "      <td>607.8717</td>\n",
              "    </tr>\n",
              "  </tbody>\n",
              "</table>\n",
              "<p>5 rows × 319 columns</p>\n",
              "</div>"
            ],
            "text/plain": [
              "     ID      ACAN      AGER     ALPK1    ANKRD17    APOB      APPL1  \\\n",
              "0  1001   91.3265  132.5226  331.5548  1658.7666  0.0000  1068.6189   \n",
              "1  1002   17.5971  183.2524  558.8592  2321.6019  0.6068   929.0049   \n",
              "2  1003  120.9309  221.8022  331.8437   891.7940  0.0000   309.4915   \n",
              "3  1004   12.0930   41.8605  886.5116  2216.7442  0.0000   792.5581   \n",
              "4  1005   84.0622   34.4995  145.7726  1266.2779  0.4859  1362.4879   \n",
              "\n",
              "       APPL2      ARRB2    ASGR1  ...      UBE2N     UBE2V1     UBQLN1  \\\n",
              "0   571.2868   699.8387   9.4305  ...  1525.2513  3320.8537  2817.7193   \n",
              "1   783.9806  1039.4417  27.3058  ...  2489.6845  2102.5485  3799.1505   \n",
              "2   403.4852  1430.5385  49.8625  ...  1760.6628  4822.9092  3718.4831   \n",
              "3  1012.0930   637.2093   3.7209  ...  1872.5581  2342.0093  3280.9302   \n",
              "4   830.9038  1064.1399  85.5199  ...  1932.9446  3220.9184  3153.5471   \n",
              "\n",
              "        UFD1    UNC93B1  USP17L2       VCAN      WDFY1       XIAP    ZCCHC3  \n",
              "0  1397.1957   367.7876   0.4963   699.3424   995.6570  1219.0098  840.7991  \n",
              "1   906.5534  1187.5000   0.0000  1967.2330  1529.7330  1083.1311  510.3155  \n",
              "2  1907.9521  1732.0061   0.0000  1190.9692  1156.5812   710.6842  689.4783  \n",
              "3  1115.3116   773.0233   0.0000    63.2558  1065.1163  1385.1163  563.7209  \n",
              "4  1168.6054   965.5005   0.0000  1168.6103   581.6327   878.5228  607.8717  \n",
              "\n",
              "[5 rows x 319 columns]"
            ]
          },
          "execution_count": 49,
          "metadata": {},
          "output_type": "execute_result"
        }
      ],
      "source": [
        "test_data.head()"
      ]
    },
    {
      "cell_type": "markdown",
      "metadata": {},
      "source": [
        "### Extracting features and target variables from the dataset"
      ]
    },
    {
      "cell_type": "code",
      "execution_count": 37,
      "metadata": {
        "id": "JAh3Q35aenly"
      },
      "outputs": [],
      "source": [
        "X = dataset.iloc[:, 1:]\n",
        "y = dataset.iloc[:, 0]"
      ]
    },
    {
      "cell_type": "markdown",
      "metadata": {},
      "source": [
        "### Feature Selection"
      ]
    },
    {
      "cell_type": "code",
      "execution_count": 38,
      "metadata": {
        "id": "fplY3R3-enly"
      },
      "outputs": [],
      "source": [
        "# Using SelectKBest from the sklearn package to select the best featuers for the model. The value of K was hyperparameterized to find the best value which gave the highest AUC-ROC score.\n",
        "\n",
        "selector = SelectKBest(k = 28)\n",
        "X = selector.fit_transform(X, y)"
      ]
    },
    {
      "cell_type": "markdown",
      "metadata": {},
      "source": [
        "### Training the model"
      ]
    },
    {
      "cell_type": "code",
      "execution_count": 39,
      "metadata": {
        "id": "I0kJgVjZenl1"
      },
      "outputs": [
        {
          "data": {
            "text/html": [
              "<style>#sk-container-id-5 {color: black;}#sk-container-id-5 pre{padding: 0;}#sk-container-id-5 div.sk-toggleable {background-color: white;}#sk-container-id-5 label.sk-toggleable__label {cursor: pointer;display: block;width: 100%;margin-bottom: 0;padding: 0.3em;box-sizing: border-box;text-align: center;}#sk-container-id-5 label.sk-toggleable__label-arrow:before {content: \"▸\";float: left;margin-right: 0.25em;color: #696969;}#sk-container-id-5 label.sk-toggleable__label-arrow:hover:before {color: black;}#sk-container-id-5 div.sk-estimator:hover label.sk-toggleable__label-arrow:before {color: black;}#sk-container-id-5 div.sk-toggleable__content {max-height: 0;max-width: 0;overflow: hidden;text-align: left;background-color: #f0f8ff;}#sk-container-id-5 div.sk-toggleable__content pre {margin: 0.2em;color: black;border-radius: 0.25em;background-color: #f0f8ff;}#sk-container-id-5 input.sk-toggleable__control:checked~div.sk-toggleable__content {max-height: 200px;max-width: 100%;overflow: auto;}#sk-container-id-5 input.sk-toggleable__control:checked~label.sk-toggleable__label-arrow:before {content: \"▾\";}#sk-container-id-5 div.sk-estimator input.sk-toggleable__control:checked~label.sk-toggleable__label {background-color: #d4ebff;}#sk-container-id-5 div.sk-label input.sk-toggleable__control:checked~label.sk-toggleable__label {background-color: #d4ebff;}#sk-container-id-5 input.sk-hidden--visually {border: 0;clip: rect(1px 1px 1px 1px);clip: rect(1px, 1px, 1px, 1px);height: 1px;margin: -1px;overflow: hidden;padding: 0;position: absolute;width: 1px;}#sk-container-id-5 div.sk-estimator {font-family: monospace;background-color: #f0f8ff;border: 1px dotted black;border-radius: 0.25em;box-sizing: border-box;margin-bottom: 0.5em;}#sk-container-id-5 div.sk-estimator:hover {background-color: #d4ebff;}#sk-container-id-5 div.sk-parallel-item::after {content: \"\";width: 100%;border-bottom: 1px solid gray;flex-grow: 1;}#sk-container-id-5 div.sk-label:hover label.sk-toggleable__label {background-color: #d4ebff;}#sk-container-id-5 div.sk-serial::before {content: \"\";position: absolute;border-left: 1px solid gray;box-sizing: border-box;top: 0;bottom: 0;left: 50%;z-index: 0;}#sk-container-id-5 div.sk-serial {display: flex;flex-direction: column;align-items: center;background-color: white;padding-right: 0.2em;padding-left: 0.2em;position: relative;}#sk-container-id-5 div.sk-item {position: relative;z-index: 1;}#sk-container-id-5 div.sk-parallel {display: flex;align-items: stretch;justify-content: center;background-color: white;position: relative;}#sk-container-id-5 div.sk-item::before, #sk-container-id-5 div.sk-parallel-item::before {content: \"\";position: absolute;border-left: 1px solid gray;box-sizing: border-box;top: 0;bottom: 0;left: 50%;z-index: -1;}#sk-container-id-5 div.sk-parallel-item {display: flex;flex-direction: column;z-index: 1;position: relative;background-color: white;}#sk-container-id-5 div.sk-parallel-item:first-child::after {align-self: flex-end;width: 50%;}#sk-container-id-5 div.sk-parallel-item:last-child::after {align-self: flex-start;width: 50%;}#sk-container-id-5 div.sk-parallel-item:only-child::after {width: 0;}#sk-container-id-5 div.sk-dashed-wrapped {border: 1px dashed gray;margin: 0 0.4em 0.5em 0.4em;box-sizing: border-box;padding-bottom: 0.4em;background-color: white;}#sk-container-id-5 div.sk-label label {font-family: monospace;font-weight: bold;display: inline-block;line-height: 1.2em;}#sk-container-id-5 div.sk-label-container {text-align: center;}#sk-container-id-5 div.sk-container {/* jupyter's `normalize.less` sets `[hidden] { display: none; }` but bootstrap.min.css set `[hidden] { display: none !important; }` so we also need the `!important` here to be able to override the default hidden behavior on the sphinx rendered scikit-learn.org. See: https://github.com/scikit-learn/scikit-learn/issues/21755 */display: inline-block !important;position: relative;}#sk-container-id-5 div.sk-text-repr-fallback {display: none;}</style><div id=\"sk-container-id-5\" class=\"sk-top-container\"><div class=\"sk-text-repr-fallback\"><pre>RandomForestClassifier(max_depth=10)</pre><b>In a Jupyter environment, please rerun this cell to show the HTML representation or trust the notebook. <br />On GitHub, the HTML representation is unable to render, please try loading this page with nbviewer.org.</b></div><div class=\"sk-container\" hidden><div class=\"sk-item\"><div class=\"sk-estimator sk-toggleable\"><input class=\"sk-toggleable__control sk-hidden--visually\" id=\"sk-estimator-id-5\" type=\"checkbox\" checked><label for=\"sk-estimator-id-5\" class=\"sk-toggleable__label sk-toggleable__label-arrow\">RandomForestClassifier</label><div class=\"sk-toggleable__content\"><pre>RandomForestClassifier(max_depth=10)</pre></div></div></div></div></div>"
            ],
            "text/plain": [
              "RandomForestClassifier(max_depth=10)"
            ]
          },
          "execution_count": 39,
          "metadata": {},
          "output_type": "execute_result"
        }
      ],
      "source": [
        "# Split the dataset into training and testing sets\n",
        "X_train, X_test, y_train, y_test = train_test_split(X, y, test_size = 0.2)\n",
        "# Initialized a Random Forest Classifier with a maximum depth of 10 and 1000 decision trees\n",
        "clf = RandomForestClassifier(max_depth = 10, n_estimators = 100)\n",
        "# Train (fit) the Random Forest Classifier on the training data\n",
        "clf.fit(X_train, y_train)"
      ]
    },
    {
      "cell_type": "markdown",
      "metadata": {},
      "source": [
        "### Generating probabilities for the validation"
      ]
    },
    {
      "cell_type": "code",
      "execution_count": 40,
      "metadata": {
        "id": "lvPQOMGKenl2"
      },
      "outputs": [],
      "source": [
        "# Generated probability predictions for the test data using the trained classifier\n",
        "y_pred = clf.predict_proba(X_test)\n",
        "\n",
        "# Extracted the probabilities for the positive class (class 1) from the prediction results\n",
        "y_pred = [i[1] for i in y_pred]\n",
        "\n",
        "# Converted the list of probabilities to a NumPy array\n",
        "y_pred = np.array(y_pred)"
      ]
    },
    {
      "cell_type": "markdown",
      "metadata": {},
      "source": [
        "### Getting the ROC-AUC score"
      ]
    },
    {
      "cell_type": "code",
      "execution_count": 41,
      "metadata": {
        "colab": {
          "base_uri": "https://localhost:8080/"
        },
        "id": "gXHuT0JLenl2",
        "outputId": "73b8d620-26d6-45e9-848d-5b276d1d3039"
      },
      "outputs": [
        {
          "name": "stdout",
          "output_type": "stream",
          "text": [
            "Validation ROC AUC: 0.823076923076923\n"
          ]
        }
      ],
      "source": [
        "# Calculated the ROC AUC (Receiver Operating Characteristic Area Under the Curve) score\n",
        "roc_auc = roc_auc_score(y_test, y_pred)\n",
        "print(f'Validation ROC AUC: {roc_auc}')"
      ]
    },
    {
      "cell_type": "code",
      "execution_count": 42,
      "metadata": {
        "colab": {
          "base_uri": "https://localhost:8080/",
          "height": 74
        },
        "id": "FCbDeUdfenl3",
        "outputId": "e6098b46-9847-4139-ae8c-291c4fe3dde9"
      },
      "outputs": [
        {
          "data": {
            "text/html": [
              "<style>#sk-container-id-6 {color: black;}#sk-container-id-6 pre{padding: 0;}#sk-container-id-6 div.sk-toggleable {background-color: white;}#sk-container-id-6 label.sk-toggleable__label {cursor: pointer;display: block;width: 100%;margin-bottom: 0;padding: 0.3em;box-sizing: border-box;text-align: center;}#sk-container-id-6 label.sk-toggleable__label-arrow:before {content: \"▸\";float: left;margin-right: 0.25em;color: #696969;}#sk-container-id-6 label.sk-toggleable__label-arrow:hover:before {color: black;}#sk-container-id-6 div.sk-estimator:hover label.sk-toggleable__label-arrow:before {color: black;}#sk-container-id-6 div.sk-toggleable__content {max-height: 0;max-width: 0;overflow: hidden;text-align: left;background-color: #f0f8ff;}#sk-container-id-6 div.sk-toggleable__content pre {margin: 0.2em;color: black;border-radius: 0.25em;background-color: #f0f8ff;}#sk-container-id-6 input.sk-toggleable__control:checked~div.sk-toggleable__content {max-height: 200px;max-width: 100%;overflow: auto;}#sk-container-id-6 input.sk-toggleable__control:checked~label.sk-toggleable__label-arrow:before {content: \"▾\";}#sk-container-id-6 div.sk-estimator input.sk-toggleable__control:checked~label.sk-toggleable__label {background-color: #d4ebff;}#sk-container-id-6 div.sk-label input.sk-toggleable__control:checked~label.sk-toggleable__label {background-color: #d4ebff;}#sk-container-id-6 input.sk-hidden--visually {border: 0;clip: rect(1px 1px 1px 1px);clip: rect(1px, 1px, 1px, 1px);height: 1px;margin: -1px;overflow: hidden;padding: 0;position: absolute;width: 1px;}#sk-container-id-6 div.sk-estimator {font-family: monospace;background-color: #f0f8ff;border: 1px dotted black;border-radius: 0.25em;box-sizing: border-box;margin-bottom: 0.5em;}#sk-container-id-6 div.sk-estimator:hover {background-color: #d4ebff;}#sk-container-id-6 div.sk-parallel-item::after {content: \"\";width: 100%;border-bottom: 1px solid gray;flex-grow: 1;}#sk-container-id-6 div.sk-label:hover label.sk-toggleable__label {background-color: #d4ebff;}#sk-container-id-6 div.sk-serial::before {content: \"\";position: absolute;border-left: 1px solid gray;box-sizing: border-box;top: 0;bottom: 0;left: 50%;z-index: 0;}#sk-container-id-6 div.sk-serial {display: flex;flex-direction: column;align-items: center;background-color: white;padding-right: 0.2em;padding-left: 0.2em;position: relative;}#sk-container-id-6 div.sk-item {position: relative;z-index: 1;}#sk-container-id-6 div.sk-parallel {display: flex;align-items: stretch;justify-content: center;background-color: white;position: relative;}#sk-container-id-6 div.sk-item::before, #sk-container-id-6 div.sk-parallel-item::before {content: \"\";position: absolute;border-left: 1px solid gray;box-sizing: border-box;top: 0;bottom: 0;left: 50%;z-index: -1;}#sk-container-id-6 div.sk-parallel-item {display: flex;flex-direction: column;z-index: 1;position: relative;background-color: white;}#sk-container-id-6 div.sk-parallel-item:first-child::after {align-self: flex-end;width: 50%;}#sk-container-id-6 div.sk-parallel-item:last-child::after {align-self: flex-start;width: 50%;}#sk-container-id-6 div.sk-parallel-item:only-child::after {width: 0;}#sk-container-id-6 div.sk-dashed-wrapped {border: 1px dashed gray;margin: 0 0.4em 0.5em 0.4em;box-sizing: border-box;padding-bottom: 0.4em;background-color: white;}#sk-container-id-6 div.sk-label label {font-family: monospace;font-weight: bold;display: inline-block;line-height: 1.2em;}#sk-container-id-6 div.sk-label-container {text-align: center;}#sk-container-id-6 div.sk-container {/* jupyter's `normalize.less` sets `[hidden] { display: none; }` but bootstrap.min.css set `[hidden] { display: none !important; }` so we also need the `!important` here to be able to override the default hidden behavior on the sphinx rendered scikit-learn.org. See: https://github.com/scikit-learn/scikit-learn/issues/21755 */display: inline-block !important;position: relative;}#sk-container-id-6 div.sk-text-repr-fallback {display: none;}</style><div id=\"sk-container-id-6\" class=\"sk-top-container\"><div class=\"sk-text-repr-fallback\"><pre>RandomForestClassifier(max_depth=10)</pre><b>In a Jupyter environment, please rerun this cell to show the HTML representation or trust the notebook. <br />On GitHub, the HTML representation is unable to render, please try loading this page with nbviewer.org.</b></div><div class=\"sk-container\" hidden><div class=\"sk-item\"><div class=\"sk-estimator sk-toggleable\"><input class=\"sk-toggleable__control sk-hidden--visually\" id=\"sk-estimator-id-6\" type=\"checkbox\" checked><label for=\"sk-estimator-id-6\" class=\"sk-toggleable__label sk-toggleable__label-arrow\">RandomForestClassifier</label><div class=\"sk-toggleable__content\"><pre>RandomForestClassifier(max_depth=10)</pre></div></div></div></div></div>"
            ],
            "text/plain": [
              "RandomForestClassifier(max_depth=10)"
            ]
          },
          "execution_count": 42,
          "metadata": {},
          "output_type": "execute_result"
        }
      ],
      "source": [
        "# Refitting the Random Forest Classifier on the entire dataset\n",
        "clf.fit(X, y)"
      ]
    },
    {
      "cell_type": "markdown",
      "metadata": {},
      "source": [
        "### Generating probabilities for the test dataset"
      ]
    },
    {
      "cell_type": "code",
      "execution_count": 46,
      "metadata": {
        "colab": {
          "base_uri": "https://localhost:8080/"
        },
        "id": "6uWLE5Ayenl3",
        "outputId": "03854edb-22b6-4145-8c0a-2eaa014dedc4"
      },
      "outputs": [
        {
          "name": "stderr",
          "output_type": "stream",
          "text": [
            "c:\\Users\\atif7\\AppData\\Local\\Programs\\Python\\Python311\\Lib\\site-packages\\sklearn\\base.py:464: UserWarning: X does not have valid feature names, but SelectKBest was fitted with feature names\n",
            "  warnings.warn(\n"
          ]
        }
      ],
      "source": [
        "# Used the same feature selector (selector) to transform the test data\n",
        "test = selector.transform(test_data.iloc[:, 1:].values)"
      ]
    },
    {
      "cell_type": "code",
      "execution_count": 47,
      "metadata": {
        "id": "Iukkq1ftenl3"
      },
      "outputs": [],
      "source": [
        "# Generated probability predictions for the test data using the trained classifier\n",
        "y_pred = clf.predict_proba(test)\n",
        "\n",
        "# Extracted the probabilities for the positive class from the prediction\n",
        "y_pred = [i[1] for i in y_pred]\n",
        "\n",
        "# Converted the list of probabilities to a NumPy array\n",
        "y_pred = np.array(y_pred)"
      ]
    },
    {
      "cell_type": "markdown",
      "metadata": {},
      "source": [
        "### Generating the CSV file with predictions"
      ]
    },
    {
      "cell_type": "code",
      "execution_count": 48,
      "metadata": {
        "id": "r91FlLhRenl3"
      },
      "outputs": [],
      "source": [
        "f = open('predictions.csv', 'w')\n",
        "s = \"ID,Labels\\n\"\n",
        "c = 1001\n",
        "for i in y_pred:\n",
        "    s = s + c.__str__() + \",\" + i.__str__() + \"\\n\"\n",
        "    c += 1\n",
        "f.write(s)\n",
        "f.close()"
      ]
    }
  ],
  "metadata": {
    "colab": {
      "provenance": []
    },
    "kernelspec": {
      "display_name": "Python 3",
      "name": "python3"
    },
    "language_info": {
      "codemirror_mode": {
        "name": "ipython",
        "version": 3
      },
      "file_extension": ".py",
      "mimetype": "text/x-python",
      "name": "python",
      "nbconvert_exporter": "python",
      "pygments_lexer": "ipython3",
      "version": "3.11.5"
    }
  },
  "nbformat": 4,
  "nbformat_minor": 0
}
